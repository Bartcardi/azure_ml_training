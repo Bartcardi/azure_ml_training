{
 "cells": [
  {
   "cell_type": "markdown",
   "metadata": {
    "editable": true,
    "slideshow": {
     "slide_type": "skip"
    },
    "tags": []
   },
   "source": [
    "[![Open In Colab](https://colab.research.google.com/assets/colab-badge.svg)](https://colab.research.google.com/github/Bartcardi/azure_ml_training/blob/duckdb_talk/notebooks/duckdb_talk.ipynb)"
   ]
  },
  {
   "cell_type": "code",
   "execution_count": null,
   "metadata": {
    "editable": true,
    "slideshow": {
     "slide_type": "skip"
    },
    "tags": []
   },
   "outputs": [],
   "source": [
    "import pandas\n",
    "import duckdb"
   ]
  },
  {
   "cell_type": "code",
   "execution_count": null,
   "metadata": {
    "editable": true,
    "slideshow": {
     "slide_type": "skip"
    },
    "tags": []
   },
   "outputs": [],
   "source": [
    "!kaggle datasets download -d zanjibar/100-million-data-csv"
   ]
  },
  {
   "cell_type": "code",
   "execution_count": null,
   "metadata": {
    "editable": true,
    "slideshow": {
     "slide_type": "skip"
    },
    "tags": []
   },
   "outputs": [],
   "source": [
    "!unzip 100-million-data-csv.zip"
   ]
  },
  {
   "cell_type": "markdown",
   "metadata": {
    "editable": true,
    "jp-MarkdownHeadingCollapsed": true,
    "slideshow": {
     "slide_type": "slide"
    },
    "tags": [],
    "user_expressions": [
     {
      "expression": "now",
      "result": {
       "ename": "NameError",
       "evalue": "name 'now' is not defined",
       "status": "error",
       "traceback": [
        "\u001b[0;31mNameError\u001b[0m\u001b[0;31m:\u001b[0m name 'now' is not defined\n"
       ]
      }
     }
    ]
   },
   "source": [
    "# \"DuckDB: Your New Favorite Analytical Tool\"\n",
    "\n",
    "* Bart Joosten / ilionx\n",
    "* 12-02-2025"
   ]
  },
  {
   "cell_type": "markdown",
   "metadata": {
    "editable": true,
    "jp-MarkdownHeadingCollapsed": true,
    "slideshow": {
     "slide_type": "slide"
    },
    "tags": []
   },
   "source": [
    "# The Story of DuckDB (Origin)\n",
    "\n",
    "* DuckDB was born out of academic research at CWI (Centrum Wiskunde & Informatica) in the Netherlands.\n",
    "* Originally developed by Mark Raasveldt and Hannes Mühleisen.\n",
    "* The initial goal was to create an in-process database system optimized for analytical queries on embedded devices.\n",
    "* The project quickly evolved into a powerful and versatile analytical DBMS suitable for a wide range of applications.\n",
    "* It's open-source (MIT License) and has a vibrant community contributing to its development.\n"
   ]
  },
  {
   "cell_type": "markdown",
   "metadata": {
    "editable": true,
    "slideshow": {
     "slide_type": "slide"
    },
    "tags": []
   },
   "source": [
    "# What is DuckDB?\n",
    "\n",
    "* DuckDB is an embedded or  analytical database management system (DBMS).\n",
    "* It's designed to be fast, portable, and easy to use, especially for analytical queries.\n",
    "* Written in C++ with zero dependies (only working C++11 compiler required).\n",
    "* Think of it as SQLite for analytics.\n",
    "* **Key Feature:** Optimized for analytical workloads (OLAP)."
   ]
  },
  {
   "cell_type": "markdown",
   "metadata": {
    "editable": true,
    "slideshow": {
     "slide_type": "slide"
    },
    "tags": []
   },
   "source": [
    "# Why Use DuckDB (Especially with Python)?\n",
    "\n",
    "* **Speed:** DuckDB is *significantly* faster than using Pandas or other Python libraries for many analytical operations, especially on larger datasets.  It pushes computation down into the database engine, which is highly optimized.\n",
    "* **Ease of Use:**  It's embedded! No setting up a separate database server. Just install the `duckdb` Python package and you're ready to go.\n",
    "* **SQL Power:** Leverage the full power of SQL for complex queries, aggregations, and data transformations directly within your Python code. This can be more concise and efficient than equivalent Pandas code.\n",
    "* **Seamless Integration:** The `duckdb` Python library provides a smooth interface for interacting with DuckDB. You can easily load data from Pandas DataFrames, execute SQL queries, and retrieve results back into Pandas.\n",
    "* **Portability and Reproducibility:**  DuckDB is entirely self-contained.  This makes your analyses portable (serverless) and reproducible.  You can easily share your code and data without worrying about database configurations.\n",
    "* **Parquet and other formats:** Read and write Parquet, CSV, and other data science-friendly formats directly.\n"
   ]
  },
  {
   "cell_type": "markdown",
   "metadata": {
    "editable": true,
    "slideshow": {
     "slide_type": "slide"
    },
    "tags": []
   },
   "source": [
    "# OLAP vs. OLTP - The Core Difference\n",
    "\n",
    "* **OLTP (Online Transaction Processing):**\n",
    "    * Designed for transactional workloads. Think of your online banking system or e-commerce checkout.\n",
    "    * Focus: High volume of small transactions, data consistency, and speed of individual transactions.\n",
    "    * Examples: Inserting a new customer, updating an order status.\n",
    "* **OLAP (Online Analytical Processing):**\n",
    "    * Designed for complex analytical queries. Think of business intelligence dashboards or data science exploration.\n",
    "    * Focus: Analyzing large datasets, complex aggregations, and query performance.\n",
    "    * Examples: Calculating sales trends over time, identifying customer segments."
   ]
  },
  {
   "cell_type": "markdown",
   "metadata": {
    "editable": true,
    "slideshow": {
     "slide_type": "slide"
    },
    "tags": []
   },
   "source": [
    "# OLAP vs. OLTP - Comparison Table\n",
    "\n",
    "| Feature           | OLTP                               | OLAP                                  |\n",
    "|-------------------|------------------------------------|---------------------------------------|\n",
    "| Workload          | Transactions (inserts, updates)      | Analytical queries (SELECTs, aggregations) |\n",
    "| Data Volume       | Relatively small transactions         | Large datasets                           |\n",
    "| Query Complexity  | Simple, fast queries                 | Complex queries, aggregations             |\n",
    "| Performance Goal  | Transaction speed, data consistency  | Query speed, data analysis              |\n",
    "| Data Changes      | Frequent, small updates              | Infrequent, bulk updates                |\n",
    "| Data Focus        | Current, operational data            | Historical, analytical data             |\n"
   ]
  },
  {
   "cell_type": "markdown",
   "metadata": {
    "editable": true,
    "slideshow": {
     "slide_type": "slide"
    },
    "tags": []
   },
   "source": [
    "# Why DuckDB is OLAP-focused\n",
    "\n",
    "* DuckDB's architecture and optimizations are specifically geared towards OLAP workloads.\n",
    "* **Columnar storage:** Data is stored column-wise, which is much more efficient for analytical queries that often only access a subset of columns. *(Reduced I/O, better compression)*\n",
    "* **Vectorized query execution:** DuckDB processes data in batches (vectors), leading to significant performance gains.\n",
    "* **Optimized query planner:** DuckDB's query planner is designed to find the most efficient execution plan for complex analytical queries.\n",
    "* These features make DuckDB significantly faster than a traditional row-oriented database (like SQLite) for analytical tasks."
   ]
  },
  {
   "cell_type": "markdown",
   "metadata": {
    "editable": true,
    "slideshow": {
     "slide_type": "slide"
    },
    "tags": []
   },
   "source": []
  },
  {
   "cell_type": "markdown",
   "metadata": {
    "editable": true,
    "slideshow": {
     "slide_type": "slide"
    },
    "tags": []
   },
   "source": [
    "# DuckDB Use Cases for Data Scientists\n",
    "\n",
    "* **Local data analysis:** Analyze large datasets on your laptop without setting up a complex database server.\n",
    "* **Data exploration and prototyping:** Quickly test out different analytical queries and transformations.\n",
    "* **Reproducible research:** Embed DuckDB directly into your analysis scripts to ensure reproducibility.\n",
    "* **Integration with data science tools:** Seamlessly use DuckDB with Python (via the `duckdb` library), R, and other languages.\n",
    "* **Parquet and CSV support:** Easily import and export data in common data science formats."
   ]
  },
  {
   "cell_type": "markdown",
   "metadata": {
    "editable": true,
    "slideshow": {
     "slide_type": "slide"
    },
    "tags": []
   },
   "source": [
    "# Slide 8: Demo Time!\n",
    "\n",
    "* Let's see DuckDB in action! "
   ]
  },
  {
   "cell_type": "code",
   "execution_count": null,
   "metadata": {
    "editable": true,
    "slideshow": {
     "slide_type": ""
    },
    "tags": []
   },
   "outputs": [],
   "source": []
  }
 ],
 "metadata": {
  "kernelspec": {
   "display_name": "Python 3 (ipykernel)",
   "language": "python",
   "name": "python3"
  },
  "language_info": {
   "codemirror_mode": {
    "name": "ipython",
    "version": 3
   },
   "file_extension": ".py",
   "mimetype": "text/x-python",
   "name": "python",
   "nbconvert_exporter": "python",
   "pygments_lexer": "ipython3",
   "version": "3.11.11"
  }
 },
 "nbformat": 4,
 "nbformat_minor": 4
}
