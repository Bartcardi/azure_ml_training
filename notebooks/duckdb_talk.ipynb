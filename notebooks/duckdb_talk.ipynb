{
 "cells": [
  {
   "cell_type": "markdown",
   "metadata": {},
   "source": [
    "[![Open In Colab](https://colab.research.google.com/assets/colab-badge.svg)](https://colab.research.google.com/github/Bartcardi/azure_ml_training/blob/duckdb_talk/notebooks/duckdb_talk.ipynb)"
   ]
  }
 ],
 "metadata": {
  "kernelspec": {
   "display_name": "colab_feb25",
   "language": "python",
   "name": "python3"
  },
  "language_info": {
   "name": "python",
   "version": "3.11.11"
  }
 },
 "nbformat": 4,
 "nbformat_minor": 2
}
